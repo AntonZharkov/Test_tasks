{
 "cells": [
  {
   "cell_type": "code",
   "execution_count": 1,
   "id": "medieval-scheme",
   "metadata": {},
   "outputs": [],
   "source": [
    "from itertools import combinations\n",
    "from collections import defaultdict"
   ]
  },
  {
   "cell_type": "markdown",
   "id": "deluxe-expense",
   "metadata": {},
   "source": [
    "# ЗАДАНИЕ 1"
   ]
  },
  {
   "cell_type": "code",
   "execution_count": 2,
   "id": "sustained-paradise",
   "metadata": {},
   "outputs": [],
   "source": [
    "men_name = ['Eddard Stark',\n",
    "            'Robb Stark',\n",
    "            'Jaime Lannister',\n",
    "            'Tyrion Lannister',\n",
    "            'Joffrey Baratheon',\n",
    "            'Robert Baratheon',\n",
    "            'Viserys Targaryen',\n",
    "            'Jon Snow']"
   ]
  },
  {
   "cell_type": "code",
   "execution_count": 3,
   "id": "annual-princess",
   "metadata": {},
   "outputs": [],
   "source": [
    "women_name = ['Catelyn Stark',\n",
    "              'Sansa Stark',\n",
    "              'Cersei Lannister',\n",
    "              'Daenerys Targaryen']"
   ]
  },
  {
   "cell_type": "markdown",
   "id": "animated-designer",
   "metadata": {},
   "source": [
    "# ЗАДАНИЕ 2"
   ]
  },
  {
   "cell_type": "code",
   "execution_count": 4,
   "id": "surgical-packing",
   "metadata": {},
   "outputs": [],
   "source": [
    "def first_second(a, b):\n",
    "    # принимает два списка\n",
    "    # возвращает список людей, оказавшихся вторыми\n",
    "    general_list = sorted(a + b)\n",
    "    return general_list[1::2]"
   ]
  },
  {
   "cell_type": "code",
   "execution_count": 5,
   "id": "russian-contemporary",
   "metadata": {},
   "outputs": [
    {
     "data": {
      "text/plain": [
       "['Cersei Lannister',\n",
       " 'Eddard Stark',\n",
       " 'Joffrey Baratheon',\n",
       " 'Robb Stark',\n",
       " 'Sansa Stark',\n",
       " 'Viserys Targaryen']"
      ]
     },
     "execution_count": 5,
     "metadata": {},
     "output_type": "execute_result"
    }
   ],
   "source": [
    "first_second(men_name, women_name)"
   ]
  },
  {
   "cell_type": "markdown",
   "id": "possible-jonathan",
   "metadata": {},
   "source": [
    "# ЗАДАНИЕ 3"
   ]
  },
  {
   "cell_type": "code",
   "execution_count": 6,
   "id": "negative-framework",
   "metadata": {},
   "outputs": [],
   "source": [
    "general_list = men_name + women_name"
   ]
  },
  {
   "cell_type": "code",
   "execution_count": 7,
   "id": "activated-hammer",
   "metadata": {},
   "outputs": [],
   "source": [
    "# создадим все возможные пары людей\n",
    "pairs = combinations(general_list, 2)"
   ]
  },
  {
   "cell_type": "code",
   "execution_count": 8,
   "id": "timely-afghanistan",
   "metadata": {
    "scrolled": true
   },
   "outputs": [],
   "source": [
    "dict_pairs = {}\n",
    "for pair in pairs:\n",
    "    if pair[0].split(' ')[1] == pair[1].split(' ')[1]:  # сравним фамилии в паре\n",
    "        dict_pairs[pair] = 1\n",
    "    else:\n",
    "        dict_pairs[pair] = 0"
   ]
  },
  {
   "cell_type": "code",
   "execution_count": 9,
   "id": "pregnant-sweet",
   "metadata": {},
   "outputs": [
    {
     "data": {
      "text/plain": [
       "{('Eddard Stark', 'Robb Stark'): 1,\n",
       " ('Eddard Stark', 'Jaime Lannister'): 0,\n",
       " ('Eddard Stark', 'Tyrion Lannister'): 0,\n",
       " ('Eddard Stark', 'Joffrey Baratheon'): 0,\n",
       " ('Eddard Stark', 'Robert Baratheon'): 0,\n",
       " ('Eddard Stark', 'Viserys Targaryen'): 0,\n",
       " ('Eddard Stark', 'Jon Snow'): 0,\n",
       " ('Eddard Stark', 'Catelyn Stark'): 1,\n",
       " ('Eddard Stark', 'Sansa Stark'): 1,\n",
       " ('Eddard Stark', 'Cersei Lannister'): 0,\n",
       " ('Eddard Stark', 'Daenerys Targaryen'): 0,\n",
       " ('Robb Stark', 'Jaime Lannister'): 0,\n",
       " ('Robb Stark', 'Tyrion Lannister'): 0,\n",
       " ('Robb Stark', 'Joffrey Baratheon'): 0,\n",
       " ('Robb Stark', 'Robert Baratheon'): 0,\n",
       " ('Robb Stark', 'Viserys Targaryen'): 0,\n",
       " ('Robb Stark', 'Jon Snow'): 0,\n",
       " ('Robb Stark', 'Catelyn Stark'): 1,\n",
       " ('Robb Stark', 'Sansa Stark'): 1,\n",
       " ('Robb Stark', 'Cersei Lannister'): 0,\n",
       " ('Robb Stark', 'Daenerys Targaryen'): 0,\n",
       " ('Jaime Lannister', 'Tyrion Lannister'): 1,\n",
       " ('Jaime Lannister', 'Joffrey Baratheon'): 0,\n",
       " ('Jaime Lannister', 'Robert Baratheon'): 0,\n",
       " ('Jaime Lannister', 'Viserys Targaryen'): 0,\n",
       " ('Jaime Lannister', 'Jon Snow'): 0,\n",
       " ('Jaime Lannister', 'Catelyn Stark'): 0,\n",
       " ('Jaime Lannister', 'Sansa Stark'): 0,\n",
       " ('Jaime Lannister', 'Cersei Lannister'): 1,\n",
       " ('Jaime Lannister', 'Daenerys Targaryen'): 0,\n",
       " ('Tyrion Lannister', 'Joffrey Baratheon'): 0,\n",
       " ('Tyrion Lannister', 'Robert Baratheon'): 0,\n",
       " ('Tyrion Lannister', 'Viserys Targaryen'): 0,\n",
       " ('Tyrion Lannister', 'Jon Snow'): 0,\n",
       " ('Tyrion Lannister', 'Catelyn Stark'): 0,\n",
       " ('Tyrion Lannister', 'Sansa Stark'): 0,\n",
       " ('Tyrion Lannister', 'Cersei Lannister'): 1,\n",
       " ('Tyrion Lannister', 'Daenerys Targaryen'): 0,\n",
       " ('Joffrey Baratheon', 'Robert Baratheon'): 1,\n",
       " ('Joffrey Baratheon', 'Viserys Targaryen'): 0,\n",
       " ('Joffrey Baratheon', 'Jon Snow'): 0,\n",
       " ('Joffrey Baratheon', 'Catelyn Stark'): 0,\n",
       " ('Joffrey Baratheon', 'Sansa Stark'): 0,\n",
       " ('Joffrey Baratheon', 'Cersei Lannister'): 0,\n",
       " ('Joffrey Baratheon', 'Daenerys Targaryen'): 0,\n",
       " ('Robert Baratheon', 'Viserys Targaryen'): 0,\n",
       " ('Robert Baratheon', 'Jon Snow'): 0,\n",
       " ('Robert Baratheon', 'Catelyn Stark'): 0,\n",
       " ('Robert Baratheon', 'Sansa Stark'): 0,\n",
       " ('Robert Baratheon', 'Cersei Lannister'): 0,\n",
       " ('Robert Baratheon', 'Daenerys Targaryen'): 0,\n",
       " ('Viserys Targaryen', 'Jon Snow'): 0,\n",
       " ('Viserys Targaryen', 'Catelyn Stark'): 0,\n",
       " ('Viserys Targaryen', 'Sansa Stark'): 0,\n",
       " ('Viserys Targaryen', 'Cersei Lannister'): 0,\n",
       " ('Viserys Targaryen', 'Daenerys Targaryen'): 1,\n",
       " ('Jon Snow', 'Catelyn Stark'): 0,\n",
       " ('Jon Snow', 'Sansa Stark'): 0,\n",
       " ('Jon Snow', 'Cersei Lannister'): 0,\n",
       " ('Jon Snow', 'Daenerys Targaryen'): 0,\n",
       " ('Catelyn Stark', 'Sansa Stark'): 1,\n",
       " ('Catelyn Stark', 'Cersei Lannister'): 0,\n",
       " ('Catelyn Stark', 'Daenerys Targaryen'): 0,\n",
       " ('Sansa Stark', 'Cersei Lannister'): 0,\n",
       " ('Sansa Stark', 'Daenerys Targaryen'): 0,\n",
       " ('Cersei Lannister', 'Daenerys Targaryen'): 0}"
      ]
     },
     "execution_count": 9,
     "metadata": {},
     "output_type": "execute_result"
    }
   ],
   "source": [
    "dict_pairs"
   ]
  },
  {
   "cell_type": "markdown",
   "id": "silent-above",
   "metadata": {},
   "source": [
    "# ЗАДАНИЕ 4"
   ]
  },
  {
   "cell_type": "code",
   "execution_count": 10,
   "id": "included-bible",
   "metadata": {},
   "outputs": [],
   "source": [
    "# создадим словарь, который к каждому ключу будет создавать список значений\n",
    "family_member = defaultdict(list)"
   ]
  },
  {
   "cell_type": "code",
   "execution_count": 11,
   "id": "great-german",
   "metadata": {},
   "outputs": [],
   "source": [
    "for person in general_list:\n",
    "    family_member[(person.split(' ')[1])].append(person)"
   ]
  },
  {
   "cell_type": "code",
   "execution_count": 12,
   "id": "undefined-tobacco",
   "metadata": {},
   "outputs": [
    {
     "data": {
      "text/plain": [
       "defaultdict(list,\n",
       "            {'Stark': ['Eddard Stark',\n",
       "              'Robb Stark',\n",
       "              'Catelyn Stark',\n",
       "              'Sansa Stark'],\n",
       "             'Lannister': ['Jaime Lannister',\n",
       "              'Tyrion Lannister',\n",
       "              'Cersei Lannister'],\n",
       "             'Baratheon': ['Joffrey Baratheon', 'Robert Baratheon'],\n",
       "             'Targaryen': ['Viserys Targaryen', 'Daenerys Targaryen'],\n",
       "             'Snow': ['Jon Snow']})"
      ]
     },
     "execution_count": 12,
     "metadata": {},
     "output_type": "execute_result"
    }
   ],
   "source": [
    "family_member"
   ]
  },
  {
   "cell_type": "code",
   "execution_count": 13,
   "id": "nominated-purchase",
   "metadata": {},
   "outputs": [
    {
     "data": {
      "text/plain": [
       "['Eddard Stark', 'Robb Stark', 'Catelyn Stark', 'Sansa Stark']"
      ]
     },
     "execution_count": 13,
     "metadata": {},
     "output_type": "execute_result"
    }
   ],
   "source": [
    "family_member['Stark']"
   ]
  },
  {
   "cell_type": "markdown",
   "id": "exotic-louisiana",
   "metadata": {},
   "source": [
    "# ЗАДАНИЕ 5"
   ]
  },
  {
   "cell_type": "code",
   "execution_count": 14,
   "id": "dried-given",
   "metadata": {},
   "outputs": [
    {
     "name": "stdout",
     "output_type": "stream",
     "text": [
      "Stark: 4\n",
      "Lannister: 3\n",
      "Baratheon: 2\n",
      "Targaryen: 2\n",
      "Snow: 1\n"
     ]
    }
   ],
   "source": [
    "for surname in family_member.keys():\n",
    "    print(f'{surname}: {len(family_member[surname])}')"
   ]
  }
 ],
 "metadata": {
  "kernelspec": {
   "display_name": "Python 3",
   "language": "python",
   "name": "python3"
  },
  "language_info": {
   "codemirror_mode": {
    "name": "ipython",
    "version": 3
   },
   "file_extension": ".py",
   "mimetype": "text/x-python",
   "name": "python",
   "nbconvert_exporter": "python",
   "pygments_lexer": "ipython3",
   "version": "3.8.3"
  }
 },
 "nbformat": 4,
 "nbformat_minor": 5
}
